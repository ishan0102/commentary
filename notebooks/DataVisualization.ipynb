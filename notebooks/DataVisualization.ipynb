{
 "cells": [
  {
   "cell_type": "markdown",
   "metadata": {},
   "source": [
    "# Data Viaualization\n",
    "Used for the final poster"
   ]
  },
  {
   "cell_type": "code",
   "execution_count": 69,
   "metadata": {},
   "outputs": [],
   "source": [
    "import pandas as pd\n",
    "import matplotlib.pyplot as plt\n",
    "import numpy as np\n",
    "from sklearn.model_selection import train_test_split\n",
    "from sklearn.metrics import mean_squared_error, roc_auc_score, roc_curve\n",
    "from sklearn.feature_extraction.text import TfidfVectorizer"
   ]
  },
  {
   "cell_type": "code",
   "execution_count": 2,
   "metadata": {},
   "outputs": [
    {
     "data": {
      "text/html": [
       "<div>\n",
       "<style scoped>\n",
       "    .dataframe tbody tr th:only-of-type {\n",
       "        vertical-align: middle;\n",
       "    }\n",
       "\n",
       "    .dataframe tbody tr th {\n",
       "        vertical-align: top;\n",
       "    }\n",
       "\n",
       "    .dataframe thead th {\n",
       "        text-align: right;\n",
       "    }\n",
       "</style>\n",
       "<table border=\"1\" class=\"dataframe\">\n",
       "  <thead>\n",
       "    <tr style=\"text-align: right;\">\n",
       "      <th></th>\n",
       "      <th>label</th>\n",
       "      <th>id</th>\n",
       "    </tr>\n",
       "  </thead>\n",
       "  <tbody>\n",
       "    <tr>\n",
       "      <th>0</th>\n",
       "      <td>positive</td>\n",
       "      <td>1223759356631625729</td>\n",
       "    </tr>\n",
       "    <tr>\n",
       "      <th>1</th>\n",
       "      <td>negative</td>\n",
       "      <td>1223752255846912000</td>\n",
       "    </tr>\n",
       "    <tr>\n",
       "      <th>2</th>\n",
       "      <td>neutral</td>\n",
       "      <td>1223752255846912000</td>\n",
       "    </tr>\n",
       "    <tr>\n",
       "      <th>3</th>\n",
       "      <td>negative</td>\n",
       "      <td>1223752255846912000</td>\n",
       "    </tr>\n",
       "    <tr>\n",
       "      <th>4</th>\n",
       "      <td>negative</td>\n",
       "      <td>1223752255846912000</td>\n",
       "    </tr>\n",
       "  </tbody>\n",
       "</table>\n",
       "</div>"
      ],
      "text/plain": [
       "      label                   id\n",
       "0  positive  1223759356631625729\n",
       "1  negative  1223752255846912000\n",
       "2   neutral  1223752255846912000\n",
       "3  negative  1223752255846912000\n",
       "4  negative  1223752255846912000"
      ]
     },
     "execution_count": 2,
     "metadata": {},
     "output_type": "execute_result"
    }
   ],
   "source": [
    "replies_df = pd.read_csv('../data/replies.csv')\n",
    "replies_df.head()"
   ]
  },
  {
   "cell_type": "code",
   "execution_count": 3,
   "metadata": {},
   "outputs": [
    {
     "data": {
      "text/html": [
       "<div>\n",
       "<style scoped>\n",
       "    .dataframe tbody tr th:only-of-type {\n",
       "        vertical-align: middle;\n",
       "    }\n",
       "\n",
       "    .dataframe tbody tr th {\n",
       "        vertical-align: top;\n",
       "    }\n",
       "\n",
       "    .dataframe thead th {\n",
       "        text-align: right;\n",
       "    }\n",
       "</style>\n",
       "<table border=\"1\" class=\"dataframe\">\n",
       "  <thead>\n",
       "    <tr style=\"text-align: right;\">\n",
       "      <th></th>\n",
       "      <th>id</th>\n",
       "      <th>tweet</th>\n",
       "    </tr>\n",
       "  </thead>\n",
       "  <tbody>\n",
       "    <tr>\n",
       "      <th>0</th>\n",
       "      <td>1223752255846912000</td>\n",
       "      <td>The Fox Corporation (The owners of Fox News) a...</td>\n",
       "    </tr>\n",
       "    <tr>\n",
       "      <th>1</th>\n",
       "      <td>1223738389003952128</td>\n",
       "      <td>Folks, you hear about this cornovirus deal in ...</td>\n",
       "    </tr>\n",
       "    <tr>\n",
       "      <th>2</th>\n",
       "      <td>1223748267609030659</td>\n",
       "      <td>The news is finally out !!!! I will be on @lov...</td>\n",
       "    </tr>\n",
       "    <tr>\n",
       "      <th>3</th>\n",
       "      <td>1223739174160928773</td>\n",
       "      <td>Good news! The person under investigation for ...</td>\n",
       "    </tr>\n",
       "    <tr>\n",
       "      <th>4</th>\n",
       "      <td>1223737953291128837</td>\n",
       "      <td>Two avid golfers promised that, whoever died f...</td>\n",
       "    </tr>\n",
       "  </tbody>\n",
       "</table>\n",
       "</div>"
      ],
      "text/plain": [
       "                    id                                              tweet\n",
       "0  1223752255846912000  The Fox Corporation (The owners of Fox News) a...\n",
       "1  1223738389003952128  Folks, you hear about this cornovirus deal in ...\n",
       "2  1223748267609030659  The news is finally out !!!! I will be on @lov...\n",
       "3  1223739174160928773  Good news! The person under investigation for ...\n",
       "4  1223737953291128837  Two avid golfers promised that, whoever died f..."
      ]
     },
     "execution_count": 3,
     "metadata": {},
     "output_type": "execute_result"
    }
   ],
   "source": [
    "raw_df = pd.read_csv('../data/tweets.csv', sep='^([^,]+),', engine='python', usecols=['id', 'tweet'])\n",
    "raw_df.head()"
   ]
  },
  {
   "cell_type": "code",
   "execution_count": 4,
   "metadata": {},
   "outputs": [
    {
     "data": {
      "text/html": [
       "<div>\n",
       "<style scoped>\n",
       "    .dataframe tbody tr th:only-of-type {\n",
       "        vertical-align: middle;\n",
       "    }\n",
       "\n",
       "    .dataframe tbody tr th {\n",
       "        vertical-align: top;\n",
       "    }\n",
       "\n",
       "    .dataframe thead th {\n",
       "        text-align: right;\n",
       "    }\n",
       "</style>\n",
       "<table border=\"1\" class=\"dataframe\">\n",
       "  <thead>\n",
       "    <tr style=\"text-align: right;\">\n",
       "      <th></th>\n",
       "      <th>id</th>\n",
       "      <th>tweet</th>\n",
       "      <th>sentiment</th>\n",
       "      <th>reply_count</th>\n",
       "    </tr>\n",
       "  </thead>\n",
       "  <tbody>\n",
       "    <tr>\n",
       "      <th>0</th>\n",
       "      <td>1223752255846912000</td>\n",
       "      <td>fox corporation owner fox news trying bully ro...</td>\n",
       "      <td>-0.520000</td>\n",
       "      <td>150</td>\n",
       "    </tr>\n",
       "    <tr>\n",
       "      <th>1</th>\n",
       "      <td>1223738389003952128</td>\n",
       "      <td>folk hear cornovirus deal news heck doctor rec...</td>\n",
       "      <td>-0.200000</td>\n",
       "      <td>45</td>\n",
       "    </tr>\n",
       "    <tr>\n",
       "      <th>2</th>\n",
       "      <td>1223748267609030659</td>\n",
       "      <td>news finally excited journey potential finding...</td>\n",
       "      <td>0.500000</td>\n",
       "      <td>6</td>\n",
       "    </tr>\n",
       "    <tr>\n",
       "      <th>3</th>\n",
       "      <td>1223739174160928773</td>\n",
       "      <td>good news person investigation novel coronavir...</td>\n",
       "      <td>-0.250000</td>\n",
       "      <td>12</td>\n",
       "    </tr>\n",
       "    <tr>\n",
       "      <th>4</th>\n",
       "      <td>1223737953291128837</td>\n",
       "      <td>two avid golfer promised whoever died first wo...</td>\n",
       "      <td>0.166667</td>\n",
       "      <td>36</td>\n",
       "    </tr>\n",
       "  </tbody>\n",
       "</table>\n",
       "</div>"
      ],
      "text/plain": [
       "                    id                                              tweet  \\\n",
       "0  1223752255846912000  fox corporation owner fox news trying bully ro...   \n",
       "1  1223738389003952128  folk hear cornovirus deal news heck doctor rec...   \n",
       "2  1223748267609030659  news finally excited journey potential finding...   \n",
       "3  1223739174160928773  good news person investigation novel coronavir...   \n",
       "4  1223737953291128837  two avid golfer promised whoever died first wo...   \n",
       "\n",
       "   sentiment  reply_count  \n",
       "0  -0.520000          150  \n",
       "1  -0.200000           45  \n",
       "2   0.500000            6  \n",
       "3  -0.250000           12  \n",
       "4   0.166667           36  "
      ]
     },
     "execution_count": 4,
     "metadata": {},
     "output_type": "execute_result"
    }
   ],
   "source": [
    "cleaned_df = pd.read_csv('../data/cleaned_tweets.csv')\n",
    "cleaned_df.head()"
   ]
  },
  {
   "cell_type": "code",
   "execution_count": 8,
   "metadata": {},
   "outputs": [],
   "source": [
    "import pickle\n",
    "# tfidf = pickle.load(open('../server/models/tfidf_vectorizer.pkl', 'rb'))\n",
    "# vector = tfidf.transform([\"Reason I believe this is likely is that Correll first tried to work at SpaceX, but we turned him down. Our competitor, it seems, did not.\"])\n"
   ]
  },
  {
   "cell_type": "code",
   "execution_count": 11,
   "metadata": {},
   "outputs": [],
   "source": [
    "\n",
    "tfidf = TfidfVectorizer()\n",
    "corpus = cleaned_df['tweet'].values.astype(str)\n",
    "tfidf_matrix = tfidf.fit_transform(corpus)\n",
    "X_train, X_test, y_train, y_test = train_test_split(tfidf_matrix, cleaned_df['sentiment'], test_size=0.2, random_state=42)"
   ]
  },
  {
   "cell_type": "code",
   "execution_count": 90,
   "metadata": {},
   "outputs": [],
   "source": [
    "model = pickle.load(open('../server/models/xgboost_model.pkl', 'rb'))\n",
    "mean_squared_error(y_test, model.predict(X_test))\n",
    "# np.sign(model.predict(X_test))\n",
    "model.predict(X_test)\n",
    "# iterate y_test\n",
    "binary_pred = model.predict(X_test)\n",
    "binary_sentiment = np.asanyarray([np.sign(y_test.iloc[i]) for i in range(len(y_test))])\n",
    "\n",
    "# convert zeros to ones\n",
    "binary_pred[binary_pred == 0] = -1\n",
    "binary_sentiment[binary_sentiment == 0] = -1\n",
    "\n",
    "\n"
   ]
  },
  {
   "cell_type": "code",
   "execution_count": 91,
   "metadata": {},
   "outputs": [
    {
     "data": {
      "image/png": "[encoded data removed]",
      "text/plain": [
       "<Figure size 432x288 with 1 Axes>"
      ]
     },
     "metadata": {
      "needs_background": "light"
     },
     "output_type": "display_data"
    }
   ],
   "source": [
    "\n",
    "\n",
    "def sigmoid(x):\n",
    "  return 1 / (1 + np.exp(-x))\n",
    "soft_pred = sigmoid(model.predict(X_test))\n",
    "fpr, tpr, _ = roc_curve(binary_sentiment, soft_pred)\n",
    "auc = roc_auc_score(binary_sentiment, binary_pred)\n",
    "plt.plot(fpr,tpr,label=f\"auc={auc}\")\n",
    "plt.legend(loc=4)\n",
    "plt.show()\n"
   ]
  },
  {
   "cell_type": "code",
   "execution_count": 109,
   "metadata": {},
   "outputs": [
    {
     "data": {
      "image/png": "[encoded data removed]",
      "text/plain": [
       "<Figure size 432x288 with 1 Axes>"
      ]
     },
     "metadata": {
      "needs_background": "light"
     },
     "output_type": "display_data"
    }
   ],
   "source": [
    "binary_pred = model.predict(X_test)\n",
    "binary_sentiment = np.asanyarray([np.sign(y_test.iloc[i]) for i in range(len(y_test))])\n",
    "\n",
    "# index of zeros in test set\n",
    "zero_indices = set(np.where(binary_sentiment == 0)[0])\n",
    "\n",
    "binary_pred_no_zero = []\n",
    "binary_sentiment_no_zero = []\n",
    "\n",
    "for i in range(len(binary_pred)):\n",
    "  if i in zero_indices:\n",
    "    continue\n",
    "  binary_pred_no_zero.append(binary_pred[i])\n",
    "  binary_sentiment_no_zero.append(binary_sentiment[i])\n",
    "binary_pred_no_zero = np.asanyarray(binary_pred_no_zero)\n",
    "binary_sentiment_no_zero = np.asanyarray(binary_sentiment_no_zero)\n",
    "\n",
    "binary_sentiment_no_zero = (binary_sentiment_no_zero + 1) // 2\n",
    "\n",
    "soft_pred_no_zero = sigmoid(binary_pred_no_zero)\n",
    "fpr, tpr, _ = roc_curve(binary_sentiment_no_zero, soft_pred_no_zero)\n",
    "auc = roc_auc_score(binary_sentiment_no_zero, binary_pred_no_zero)\n",
    "plt.plot(fpr,tpr,label=f\"auc={auc}\")\n",
    "# plot 45 degree line\n",
    "plt.plot([0, 1], [0, 1], 'k--')\n",
    "plt.legend(loc=4)\n",
    "\n",
    "plt.title('ROC curve')\n",
    "plt.show()"
   ]
  }
 ],
 "metadata": {
  "interpreter": {
   "hash": "f8c1b0a288fb7af9f6e7154a72d2e1ef24b963d6cbe86bae45d471b0c755d202"
  },
  "kernelspec": {
   "display_name": "Python 3.8.13 ('twitter')",
   "language": "python",
   "name": "python3"
  },
  "language_info": {
   "codemirror_mode": {
    "name": "ipython",
    "version": 3
   },
   "file_extension": ".py",
   "mimetype": "text/x-python",
   "name": "python",
   "nbconvert_exporter": "python",
   "pygments_lexer": "ipython3",
   "version": "3.8.13"
  },
  "orig_nbformat": 4
 },
 "nbformat": 4,
 "nbformat_minor": 2
}
