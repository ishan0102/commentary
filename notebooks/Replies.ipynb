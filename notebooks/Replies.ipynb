{
 "cells": [
  {
   "cell_type": "markdown",
   "metadata": {},
   "source": [
    "# Replies\n",
    "Get as many replies as possible for each top tweet."
   ]
  },
  {
   "cell_type": "markdown",
   "metadata": {},
   "source": [
    "Imports"
   ]
  },
  {
   "cell_type": "code",
   "execution_count": 160,
   "metadata": {},
   "outputs": [],
   "source": [
    "from TwitterAPI import TwitterAPI, TwitterOAuth, TwitterRequestError, TwitterConnectionError, TwitterPager\n",
    "import pandas as pd\n",
    "from tqdm import tqdm\n",
    "\n",
    "from dotenv import load_dotenv\n",
    "import os\n",
    "import glob"
   ]
  },
  {
   "cell_type": "markdown",
   "metadata": {},
   "source": [
    "Authentication"
   ]
  },
  {
   "cell_type": "code",
   "execution_count": 161,
   "metadata": {},
   "outputs": [],
   "source": [
    "load_dotenv()\n",
    "consumer_key = os.getenv(\"CONSUMER_KEY\")\n",
    "consumer_secret = os.getenv(\"CONSUMER_SECRET\")\n",
    "access_token_key = os.getenv(\"ACCESS_TOKEN_KEY\")\n",
    "access_token_secret = os.getenv(\"ACCESS_TOKEN_SECRET\")\n",
    "\n",
    "api = TwitterAPI(consumer_key, consumer_secret, access_token_key, access_token_secret, api_version='2')"
   ]
  },
  {
   "cell_type": "markdown",
   "metadata": {},
   "source": [
    "Fetch replies (inspired by [Adithya Narayanan](https://towardsdatascience.com/mining-replies-to-tweets-a-walkthrough-9a936602c4d6))"
   ]
  },
  {
   "cell_type": "code",
   "execution_count": 162,
   "metadata": {},
   "outputs": [],
   "source": [
    "def retrieve_replies(tweet_id):\n",
    "    try:\n",
    "        # Get 25 replies\n",
    "        pager = TwitterPager(api, 'tweets/search/recent',\n",
    "                        {\n",
    "                            'query': f'conversation_id:{tweet_id}',\n",
    "                            'tweet.fields': 'author_id,conversation_id,created_at,in_reply_to_user_id'\n",
    "                        })\n",
    "\n",
    "        id_list = []\n",
    "        tweet_list = []\n",
    "        tweet_ct = 0\n",
    "        for item in pager.get_iterator(wait=5):\n",
    "            id_list.append(item['author_id'])\n",
    "            tweet_list.append(item['text'])\n",
    "\n",
    "            tweet_ct += 1\n",
    "            if tweet_ct > 30:\n",
    "                break\n",
    "\n",
    "    # If rate limit is exceeded, wait 15 minutes\n",
    "    except TwitterRequestError as e:\n",
    "        print(e.status_code)\n",
    "        for msg in iter(e):\n",
    "            print(msg)\n",
    "        time.sleep(15 * 60)\n",
    "\n",
    "    except TwitterConnectionError as e:\n",
    "        print(e)\n",
    "\n",
    "    except Exception as e:\n",
    "        print(e)\n",
    "\n",
    "    return pd.DataFrame({ 'id': id_list, 'tweet': tweet_list })"
   ]
  },
  {
   "cell_type": "markdown",
   "metadata": {},
   "source": [
    "This function takes a tweet ID and returns a dataframe with the reply ID and the reply text (with newlines removed)"
   ]
  },
  {
   "cell_type": "code",
   "execution_count": 163,
   "metadata": {},
   "outputs": [],
   "source": [
    "def get_replies(tweet_id):\n",
    "    replies = retrieve_replies(tweet_id)\n",
    "    replies.replace(to_replace=[r\"\\\\t|\\\\n|\\\\r\", \"\\t|\\n|\\r\"], value=[\"\",\"\"], regex=True, inplace=True)\n",
    "    return replies"
   ]
  },
  {
   "cell_type": "markdown",
   "metadata": {},
   "source": [
    "Create folders for each username (do this after fetching the replies – can be done easily using `parent_tweets.csv`)"
   ]
  },
  {
   "cell_type": "code",
   "execution_count": 164,
   "metadata": {},
   "outputs": [],
   "source": [
    "# usernames = [os.path.basename(f).split('.')[0] for f in glob.glob('../data/tweets/*.csv')]\n",
    "# for username in usernames:\n",
    "#     os.makedirs(f'../data/replies/{username}', exist_ok=True)"
   ]
  },
  {
   "cell_type": "markdown",
   "metadata": {},
   "source": [
    "Iterate over all parent tweets and fetch replies for each one"
   ]
  },
  {
   "cell_type": "code",
   "execution_count": null,
   "metadata": {},
   "outputs": [],
   "source": [
    "import time\n",
    "\n",
    "for i in tqdm(range(23, len(usernames))):\n",
    "    username = usernames[i]\n",
    "    tweets = pd.read_csv(f'../data/tweets/{username}.csv')\n",
    "    reply_ct = 0\n",
    "    for index, row in tweets.iterrows():\n",
    "        replies = get_replies(row['id'])\n",
    "        replies.to_csv(f'../data/replies/{row[\"id\"]}.csv', index=False)\n",
    "        reply_ct += len(replies)\n",
    "\n",
    "    # Sleep based on the number of tweets retrieved\n",
    "    # Follows rate limit of 450 requests / 15 minutes = 1 request / 2 seconds\n",
    "    time.sleep(reply_ct * 2)\n",
    "\n",
    "    # Write progress to a file\n",
    "    with open('../data/progress.txt', 'a') as f:\n",
    "        f.write(f'User: {username}, Progress: {i}/{len(usernames)}, Replies: {reply_ct}')\n",
    "        f.write('\\n')"
   ]
  }
 ],
 "metadata": {
  "interpreter": {
   "hash": "4771c68c01a26e26c9fe4acdb07a7c2494acf4caaf8c8ebd1e57f3f9fd859a44"
  },
  "kernelspec": {
   "display_name": "Python 3.8.9 ('venv': venv)",
   "language": "python",
   "name": "python3"
  },
  "language_info": {
   "codemirror_mode": {
    "name": "ipython",
    "version": 3
   },
   "file_extension": ".py",
   "mimetype": "text/x-python",
   "name": "python",
   "nbconvert_exporter": "python",
   "pygments_lexer": "ipython3",
   "version": "3.8.9"
  },
  "orig_nbformat": 4
 },
 "nbformat": 4,
 "nbformat_minor": 2
}
