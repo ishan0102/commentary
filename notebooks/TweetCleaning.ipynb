{
 "cells": [
  {
   "cell_type": "markdown",
   "metadata": {},
   "source": [
    "# Tweet Cleaning"
   ]
  },
  {
   "cell_type": "code",
   "execution_count": 2,
   "metadata": {},
   "outputs": [],
   "source": [
    "import pandas as pd\n",
    "import re\n",
    "\n",
    "import nltk\n",
    "from nltk.tokenize import TweetTokenizer\n",
    "from nltk.corpus import stopwords\n",
    "from nltk.stem import WordNetLemmatizer"
   ]
  },
  {
   "cell_type": "code",
   "execution_count": 3,
   "metadata": {},
   "outputs": [
    {
     "data": {
      "text/html": [
       "<div>\n",
       "<style scoped>\n",
       "    .dataframe tbody tr th:only-of-type {\n",
       "        vertical-align: middle;\n",
       "    }\n",
       "\n",
       "    .dataframe tbody tr th {\n",
       "        vertical-align: top;\n",
       "    }\n",
       "\n",
       "    .dataframe thead th {\n",
       "        text-align: right;\n",
       "    }\n",
       "</style>\n",
       "<table border=\"1\" class=\"dataframe\">\n",
       "  <thead>\n",
       "    <tr style=\"text-align: right;\">\n",
       "      <th></th>\n",
       "      <th>id</th>\n",
       "      <th>tweet</th>\n",
       "      <th>sentiment</th>\n",
       "      <th>reply_count</th>\n",
       "    </tr>\n",
       "  </thead>\n",
       "  <tbody>\n",
       "    <tr>\n",
       "      <th>0</th>\n",
       "      <td>1223752255846912000</td>\n",
       "      <td>The Fox Corporation (The owners of Fox News) a...</td>\n",
       "      <td>-0.520000</td>\n",
       "      <td>150</td>\n",
       "    </tr>\n",
       "    <tr>\n",
       "      <th>1</th>\n",
       "      <td>1223738389003952128</td>\n",
       "      <td>Folks, you hear about this cornovirus deal in ...</td>\n",
       "      <td>-0.200000</td>\n",
       "      <td>45</td>\n",
       "    </tr>\n",
       "    <tr>\n",
       "      <th>2</th>\n",
       "      <td>1223748267609030659</td>\n",
       "      <td>The news is finally out !!!! I will be on @lov...</td>\n",
       "      <td>0.500000</td>\n",
       "      <td>6</td>\n",
       "    </tr>\n",
       "    <tr>\n",
       "      <th>3</th>\n",
       "      <td>1223739174160928773</td>\n",
       "      <td>Good news! The person under investigation for ...</td>\n",
       "      <td>-0.250000</td>\n",
       "      <td>12</td>\n",
       "    </tr>\n",
       "    <tr>\n",
       "      <th>4</th>\n",
       "      <td>1223737953291128837</td>\n",
       "      <td>Two avid golfers promised that, whoever died f...</td>\n",
       "      <td>0.166667</td>\n",
       "      <td>36</td>\n",
       "    </tr>\n",
       "  </tbody>\n",
       "</table>\n",
       "</div>"
      ],
      "text/plain": [
       "                    id                                              tweet  \\\n",
       "0  1223752255846912000  The Fox Corporation (The owners of Fox News) a...   \n",
       "1  1223738389003952128  Folks, you hear about this cornovirus deal in ...   \n",
       "2  1223748267609030659  The news is finally out !!!! I will be on @lov...   \n",
       "3  1223739174160928773  Good news! The person under investigation for ...   \n",
       "4  1223737953291128837  Two avid golfers promised that, whoever died f...   \n",
       "\n",
       "   sentiment  reply_count  \n",
       "0  -0.520000          150  \n",
       "1  -0.200000           45  \n",
       "2   0.500000            6  \n",
       "3  -0.250000           12  \n",
       "4   0.166667           36  "
      ]
     },
     "execution_count": 3,
     "metadata": {},
     "output_type": "execute_result"
    }
   ],
   "source": [
    "df = pd.read_csv('../data/labeled_tweets.csv')\n",
    "df.head()"
   ]
  },
  {
   "cell_type": "code",
   "execution_count": 4,
   "metadata": {},
   "outputs": [
    {
     "data": {
      "text/html": [
       "<div>\n",
       "<style scoped>\n",
       "    .dataframe tbody tr th:only-of-type {\n",
       "        vertical-align: middle;\n",
       "    }\n",
       "\n",
       "    .dataframe tbody tr th {\n",
       "        vertical-align: top;\n",
       "    }\n",
       "\n",
       "    .dataframe thead th {\n",
       "        text-align: right;\n",
       "    }\n",
       "</style>\n",
       "<table border=\"1\" class=\"dataframe\">\n",
       "  <thead>\n",
       "    <tr style=\"text-align: right;\">\n",
       "      <th></th>\n",
       "      <th>id</th>\n",
       "      <th>tweet</th>\n",
       "      <th>sentiment</th>\n",
       "      <th>reply_count</th>\n",
       "    </tr>\n",
       "  </thead>\n",
       "  <tbody>\n",
       "    <tr>\n",
       "      <th>0</th>\n",
       "      <td>1223752255846912000</td>\n",
       "      <td>The Fox Corporation (The owners of Fox News) a...</td>\n",
       "      <td>-0.520000</td>\n",
       "      <td>150</td>\n",
       "    </tr>\n",
       "    <tr>\n",
       "      <th>1</th>\n",
       "      <td>1223738389003952128</td>\n",
       "      <td>Folks, you hear about this cornovirus deal in ...</td>\n",
       "      <td>-0.200000</td>\n",
       "      <td>45</td>\n",
       "    </tr>\n",
       "    <tr>\n",
       "      <th>2</th>\n",
       "      <td>1223748267609030659</td>\n",
       "      <td>The news is finally out !!!! I will be on @lov...</td>\n",
       "      <td>0.500000</td>\n",
       "      <td>6</td>\n",
       "    </tr>\n",
       "    <tr>\n",
       "      <th>3</th>\n",
       "      <td>1223739174160928773</td>\n",
       "      <td>Good news! The person under investigation for ...</td>\n",
       "      <td>-0.250000</td>\n",
       "      <td>12</td>\n",
       "    </tr>\n",
       "    <tr>\n",
       "      <th>4</th>\n",
       "      <td>1223737953291128837</td>\n",
       "      <td>Two avid golfers promised that, whoever died f...</td>\n",
       "      <td>0.166667</td>\n",
       "      <td>36</td>\n",
       "    </tr>\n",
       "  </tbody>\n",
       "</table>\n",
       "</div>"
      ],
      "text/plain": [
       "                    id                                              tweet  \\\n",
       "0  1223752255846912000  The Fox Corporation (The owners of Fox News) a...   \n",
       "1  1223738389003952128  Folks, you hear about this cornovirus deal in ...   \n",
       "2  1223748267609030659  The news is finally out !!!! I will be on @lov...   \n",
       "3  1223739174160928773  Good news! The person under investigation for ...   \n",
       "4  1223737953291128837  Two avid golfers promised that, whoever died f...   \n",
       "\n",
       "   sentiment  reply_count  \n",
       "0  -0.520000          150  \n",
       "1  -0.200000           45  \n",
       "2   0.500000            6  \n",
       "3  -0.250000           12  \n",
       "4   0.166667           36  "
      ]
     },
     "execution_count": 4,
     "metadata": {},
     "output_type": "execute_result"
    }
   ],
   "source": [
    "df_clean = df.copy()\n",
    "df_clean.head()"
   ]
  },
  {
   "cell_type": "code",
   "execution_count": 5,
   "metadata": {},
   "outputs": [],
   "source": [
    "# Remove extra whitespace from df_clean['tweet']\n",
    "df_clean['tweet'] = df_clean['tweet'].apply(lambda x: re.sub(r'\\s+', ' ', x))\n",
    "# Normalize case in df_clean['tweet']\n",
    "df_clean['tweet'] = df_clean['tweet'].apply(lambda x: x.lower())"
   ]
  },
  {
   "cell_type": "code",
   "execution_count": 6,
   "metadata": {},
   "outputs": [],
   "source": [
    "# Tokenize tweets\n",
    "tw = TweetTokenizer()\n",
    "df_clean['tweet'] = df_clean['tweet'].apply(lambda x : tw.tokenize(x))"
   ]
  },
  {
   "cell_type": "code",
   "execution_count": 7,
   "metadata": {},
   "outputs": [
    {
     "name": "stderr",
     "output_type": "stream",
     "text": [
      "[nltk_data] Downloading package stopwords to\n",
      "[nltk_data]     /Users/ishanshah/nltk_data...\n",
      "[nltk_data]   Unzipping corpora/stopwords.zip.\n",
      "[nltk_data] Downloading package wordnet to\n",
      "[nltk_data]     /Users/ishanshah/nltk_data...\n",
      "[nltk_data]   Unzipping corpora/wordnet.zip.\n",
      "[nltk_data] Downloading package omw-1.4 to\n",
      "[nltk_data]     /Users/ishanshah/nltk_data...\n",
      "[nltk_data]   Unzipping corpora/omw-1.4.zip.\n"
     ]
    },
    {
     "data": {
      "text/plain": [
       "True"
      ]
     },
     "execution_count": 7,
     "metadata": {},
     "output_type": "execute_result"
    }
   ],
   "source": [
    "nltk.download('stopwords')\n",
    "nltk.download('wordnet')\n",
    "nltk.download('omw-1.4')"
   ]
  },
  {
   "cell_type": "code",
   "execution_count": 8,
   "metadata": {},
   "outputs": [],
   "source": [
    "# Remove stopwords\n",
    "stop_words = stopwords.words('english')\n",
    "df_clean['tweet'] = df_clean['tweet'].apply(lambda x : [word for word in x if word not in stop_words])"
   ]
  },
  {
   "cell_type": "code",
   "execution_count": 9,
   "metadata": {},
   "outputs": [],
   "source": [
    "# Lemmatize words\n",
    "lemmatizer = WordNetLemmatizer()\n",
    "df_clean['tweet'] = df_clean['tweet'].apply(lambda x : [lemmatizer.lemmatize(word) for word in x])"
   ]
  },
  {
   "cell_type": "code",
   "execution_count": 10,
   "metadata": {},
   "outputs": [],
   "source": [
    "# Remove all tokens that contain no text\n",
    "df_clean['tweet'] = df_clean['tweet'].apply(lambda x : [word for word in x if word.isalpha()])"
   ]
  },
  {
   "cell_type": "code",
   "execution_count": 11,
   "metadata": {},
   "outputs": [],
   "source": [
    "# Turn df_clean['tweet'] into a single string\n",
    "df_clean['tweet'] = df_clean['tweet'].apply(lambda x : ' '.join(x))"
   ]
  },
  {
   "cell_type": "code",
   "execution_count": 12,
   "metadata": {},
   "outputs": [
    {
     "data": {
      "text/html": [
       "<div>\n",
       "<style scoped>\n",
       "    .dataframe tbody tr th:only-of-type {\n",
       "        vertical-align: middle;\n",
       "    }\n",
       "\n",
       "    .dataframe tbody tr th {\n",
       "        vertical-align: top;\n",
       "    }\n",
       "\n",
       "    .dataframe thead th {\n",
       "        text-align: right;\n",
       "    }\n",
       "</style>\n",
       "<table border=\"1\" class=\"dataframe\">\n",
       "  <thead>\n",
       "    <tr style=\"text-align: right;\">\n",
       "      <th></th>\n",
       "      <th>id</th>\n",
       "      <th>tweet</th>\n",
       "      <th>sentiment</th>\n",
       "      <th>reply_count</th>\n",
       "    </tr>\n",
       "  </thead>\n",
       "  <tbody>\n",
       "    <tr>\n",
       "      <th>0</th>\n",
       "      <td>1223752255846912000</td>\n",
       "      <td>fox corporation owner fox news trying bully ro...</td>\n",
       "      <td>-0.520000</td>\n",
       "      <td>150</td>\n",
       "    </tr>\n",
       "    <tr>\n",
       "      <th>1</th>\n",
       "      <td>1223738389003952128</td>\n",
       "      <td>folk hear cornovirus deal news heck doctor rec...</td>\n",
       "      <td>-0.200000</td>\n",
       "      <td>45</td>\n",
       "    </tr>\n",
       "    <tr>\n",
       "      <th>2</th>\n",
       "      <td>1223748267609030659</td>\n",
       "      <td>news finally excited journey potential finding...</td>\n",
       "      <td>0.500000</td>\n",
       "      <td>6</td>\n",
       "    </tr>\n",
       "    <tr>\n",
       "      <th>3</th>\n",
       "      <td>1223739174160928773</td>\n",
       "      <td>good news person investigation novel coronavir...</td>\n",
       "      <td>-0.250000</td>\n",
       "      <td>12</td>\n",
       "    </tr>\n",
       "    <tr>\n",
       "      <th>4</th>\n",
       "      <td>1223737953291128837</td>\n",
       "      <td>two avid golfer promised whoever died first wo...</td>\n",
       "      <td>0.166667</td>\n",
       "      <td>36</td>\n",
       "    </tr>\n",
       "  </tbody>\n",
       "</table>\n",
       "</div>"
      ],
      "text/plain": [
       "                    id                                              tweet  \\\n",
       "0  1223752255846912000  fox corporation owner fox news trying bully ro...   \n",
       "1  1223738389003952128  folk hear cornovirus deal news heck doctor rec...   \n",
       "2  1223748267609030659  news finally excited journey potential finding...   \n",
       "3  1223739174160928773  good news person investigation novel coronavir...   \n",
       "4  1223737953291128837  two avid golfer promised whoever died first wo...   \n",
       "\n",
       "   sentiment  reply_count  \n",
       "0  -0.520000          150  \n",
       "1  -0.200000           45  \n",
       "2   0.500000            6  \n",
       "3  -0.250000           12  \n",
       "4   0.166667           36  "
      ]
     },
     "execution_count": 12,
     "metadata": {},
     "output_type": "execute_result"
    }
   ],
   "source": [
    "df_clean.head()"
   ]
  },
  {
   "cell_type": "code",
   "execution_count": 13,
   "metadata": {},
   "outputs": [],
   "source": [
    "df_clean.to_csv('../data/cleaned_tweets.csv', index=False)"
   ]
  }
 ],
 "metadata": {
  "interpreter": {
   "hash": "1f9f6b2d4fcc572369d0d8f377f5dc711bb6d45d12e13aca05ca6eae431926c0"
  },
  "kernelspec": {
   "display_name": "Python 3.7.11 ('461P')",
   "language": "python",
   "name": "python3"
  },
  "language_info": {
   "codemirror_mode": {
    "name": "ipython",
    "version": 3
   },
   "file_extension": ".py",
   "mimetype": "text/x-python",
   "name": "python",
   "nbconvert_exporter": "python",
   "pygments_lexer": "ipython3",
   "version": "3.8.9"
  },
  "orig_nbformat": 4
 },
 "nbformat": 4,
 "nbformat_minor": 2
}
