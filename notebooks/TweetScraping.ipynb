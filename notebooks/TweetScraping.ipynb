{
 "cells": [
  {
   "cell_type": "markdown",
   "metadata": {},
   "source": [
    "# Tweet Scraping\n",
    "The purpose of this notebook is to collect all of the necessary data using the Twitter API."
   ]
  },
  {
   "cell_type": "markdown",
   "metadata": {},
   "source": [
    "Get environment variables from the `.env` file."
   ]
  },
  {
   "cell_type": "code",
   "execution_count": 3,
   "metadata": {},
   "outputs": [],
   "source": [
    "from dotenv import load_dotenv\n",
    "import os\n",
    "\n",
    "load_dotenv()\n",
    "TWITTER_API_KEY = os.getenv('TWITTER_API_KEY')\n",
    "TWITTER_API_SECRET = os.getenv('TWITTER_API_SECRET')\n",
    "TWITTER_BEARER_TOKEN = os.getenv('TWITTER_BEARER_TOKEN')"
   ]
  },
  {
   "cell_type": "markdown",
   "metadata": {},
   "source": [
    "Authenticate with a bearer token."
   ]
  },
  {
   "cell_type": "code",
   "execution_count": 4,
   "metadata": {},
   "outputs": [],
   "source": [
    "import tweepy\n",
    "\n",
    "auth = tweepy.OAuth2BearerHandler(TWITTER_BEARER_TOKEN)\n",
    "api = tweepy.API(auth)"
   ]
  },
  {
   "cell_type": "markdown",
   "metadata": {},
   "source": [
    "Print out my username and followers to make sure everything is working."
   ]
  },
  {
   "cell_type": "code",
   "execution_count": 5,
   "metadata": {},
   "outputs": [
    {
     "name": "stdout",
     "output_type": "stream",
     "text": [
      "ishan\n",
      "227\n"
     ]
    }
   ],
   "source": [
    "user = api.get_user(screen_name='ishan0102')\n",
    "print(user.name)\n",
    "print(user.followers_count)"
   ]
  },
  {
   "cell_type": "code",
   "execution_count": 11,
   "metadata": {},
   "outputs": [],
   "source": [
    "import csv\n",
    "\n",
    "# update these for the tweet you want to process replies to 'name' = the account username and you can find the tweet id within the tweet URL\n",
    "name = 'elonmusk'\n",
    "tweet_id = '1517234027970899982'\n",
    "\n",
    "replies=[]\n",
    "for tweet in tweepy.Cursor(api.search_tweets,q='to:'+name, result_type='recent').items(1000):\n",
    "    if hasattr(tweet, 'in_reply_to_status_id_str'):\n",
    "        if (tweet.in_reply_to_status_id_str==tweet_id):\n",
    "            replies.append(tweet)\n",
    "\n",
    "# with open('replies_clean.csv', 'w') as f:\n",
    "#     csv_writer = csv.DictWriter(f, fieldnames=('user', 'text'))\n",
    "#     csv_writer.writeheader()\n",
    "#     for tweet in replies:\n",
    "#         row = {'user': tweet.user.screen_name, 'text': tweet.text.replace('\\n', ' ')}\n",
    "#         csv_writer.writerow(row)"
   ]
  },
  {
   "cell_type": "code",
   "execution_count": 2,
   "metadata": {},
   "outputs": [
    {
     "name": "stdout",
     "output_type": "stream",
     "text": [
      "1517419427528118273 2022-04-22 03:25:58 -0500 <elonmusk> @PPathole Yes\n",
      "1517244364703027201 2022-04-21 15:50:20 -0500 <elonmusk> @28delayslater 🤣💯\n",
      "1517236891606790144 2022-04-21 15:20:38 -0500 <elonmusk> Believe in the future\n",
      "1517234911035412481 2022-04-21 15:12:46 -0500 <elonmusk>  https://t.co/IOV4tWvyxv\n",
      "1517234027970899982 2022-04-21 15:09:15 -0500 <elonmusk>  https://t.co/TMOnmKBcWQ\n",
      "1517219715520901121 2022-04-21 14:12:23 -0500 <elonmusk> @APompliano Tesla is really a dozen or more startups if you look at all the things created from scratch that aren’t present in other car companies\n",
      "1517218742291382272 2022-04-21 14:08:31 -0500 <elonmusk> @SpaceX Starlink satellites deployed into initial parking orbit  https://t.co/73sOZkUJaJ\n",
      "1517215736606957573 2022-04-21 13:56:34 -0500 <elonmusk> And authenticate all real humans\n",
      "1517215588376092673 2022-04-21 13:55:59 -0500 <elonmusk> @johnkrausphotos Indeed (heavy sigh)\n",
      "1517215066550116354 2022-04-21 13:53:55 -0500 <elonmusk> If our twitter bid succeeds, we will defeat the spam bots or die trying!\n",
      "1517214299923652609 2022-04-21 13:50:52 -0500 <elonmusk> Such a joy to work with amazingly talented people at SpaceX, Tesla, Neuralink &amp; Boring Co!\n",
      "1517213176835805184 2022-04-21 13:46:24 -0500 <elonmusk> @WholeMarsBlog @Herbert_Diess Diess deserves a lot of credit for moving VW rapidly towards electrification. They’re lucky to have him.\n",
      "1517212509882695680 2022-04-21 13:43:45 -0500 <elonmusk> @SamTwits My true moral error was creating Tesla &amp; SpaceX at same time, while avoiding general mgmt chores at Tesla (focusing only on product &amp; engineering). Tried to have my cake &amp; eat it too, which failed.\n",
      "1517210882073321472 2022-04-21 13:37:17 -0500 <elonmusk> @SamTwits Agreed. I wish JB &amp; I had just moved forward to commercialize the Tzero without adding other partners. In the end, that’s what happened anyway.\n",
      "1517208246762852354 2022-04-21 13:26:49 -0500 <elonmusk> @fermatslibrary Resistance is futile\n",
      "1517206816391938050 2022-04-21 13:21:08 -0500 <elonmusk> @WholeMarsBlog The esthetics of the new rendering will improve\n",
      "1517206343446315008 2022-04-21 13:19:15 -0500 <elonmusk> @TPostMillennial SNL is so rarely funny these day (sigh)  https://t.co/zYnkLgdDY8\n",
      "1517205565793050625 2022-04-21 13:16:09 -0500 <elonmusk> @Erdayastronaut Making rocket reuse normal is the goal\n",
      "1517177549553553414 2022-04-21 11:24:50 -0500 <elonmusk> @BillyM2k Always look on the bright side of life\n",
      "1517074058482958336 2022-04-21 04:33:36 -0500 <elonmusk> @teslaownersSV @DimaZeniuk @billhuang688 @woonomic @VaibhavSisinty Maybe JB would be up for that too. He deserves a lot of credit (as do many longtime Tesla people).\n",
      "1517073820284301313 2022-04-21 04:32:39 -0500 <elonmusk> @teslaownersSV @DimaZeniuk @billhuang688 @woonomic @VaibhavSisinty Ok sure\n",
      "1517073148075810816 2022-04-21 04:29:59 -0500 <elonmusk> @Tesla__Mania @woonomic @VaibhavSisinty Yes\n",
      "1517072753475600385 2022-04-21 04:28:24 -0500 <elonmusk> @garyblack00 The failures are mine, the successes belong to others\n",
      "1517063049949192192 2022-04-21 03:49:51 -0500 <elonmusk> @DimaZeniuk @billhuang688 @woonomic @VaibhavSisinty I should, but that would take a lot of time away from Tesla, SpaceX &amp; other work. Walter Isaacson is writing a book.\n",
      "1517061120212807680 2022-04-21 03:42:11 -0500 <elonmusk> @PPathole @teslaownersSV @woonomic @VaibhavSisinty Exactly\n",
      "1517060599578042369 2022-04-21 03:40:07 -0500 <elonmusk> @billhuang688 @woonomic @VaibhavSisinty I put in all I had, whereas Eberhard, who was worth over $10M at the time, refused to invest a penny to help Tesla.   If it was really his baby, he would never have stood by while it starved to death.   https://t.co/ZDfYLD5qkL\n",
      "1517058850406506497 2022-04-21 03:33:10 -0500 <elonmusk> @teslaownersSV @woonomic @VaibhavSisinty But if he was actually capable of creating a company like Tesla, he would have done so after he was fired for lying outrageously about cost &amp; progress of Roadster in mid 2007.  We would’ve lost at least a few talented people if he was the real deal, but we lost no one.\n",
      "1517057537731932161 2022-04-21 03:27:57 -0500 <elonmusk> @teslaownersSV @woonomic @VaibhavSisinty Eberhard has been relentlessly pushing a false narrative about Tesla for 15 years. He’s a compelling liar. Fooled me for almost 3 years.\n",
      "1517055957209071617 2022-04-21 03:21:40 -0500 <elonmusk> @woonomic @VaibhavSisinty They say history is written by the victors, but not on Wikipedia if the losing party is still alive &amp; has lots of time on their hands!\n",
      "1517054436736126977 2022-04-21 03:15:37 -0500 <elonmusk> @woonomic @VaibhavSisinty When Eberhard was fired unanimously by the board in July 2007 (for damn good reasons), no one left with him. That says it all.\n",
      "1517053535464181761 2022-04-21 03:12:03 -0500 <elonmusk> @woonomic @VaibhavSisinty If filing a shell corp constitutes “founding a company”, then I’d be the only founder of PayPal, since I filed the original incorporation docs for  https://t.co/bOUOek5Cvy (later renamed PayPal), but that’s not what founding means.\n",
      "1517052799070126080 2022-04-21 03:09:07 -0500 <elonmusk> @woonomic @VaibhavSisinty Not even close to that. It was a shell corp with no employees, no IP, no designs, no prototype, literally nothing but a biz plan to commercialize AC Propulsion’s Tzero car, which was introduced to me by JB Straubel, *not* Eberhard.   Even name “Tesla Motors” was owned by others!\n",
      "1516977323576381441 2022-04-20 22:09:12 -0500 <elonmusk> Please consider working at The Boring Company!   Our goal is to solve traffic, which plagues every major city on Earth.\n",
      "1516976771874365441 2022-04-20 22:07:01 -0500 <elonmusk> @Erdayastronaut Hopefully, I didn’t say too many dumb things\n",
      "1516976498154037248 2022-04-20 22:05:55 -0500 <elonmusk> @WholeMarsBlog Tesla opex is embarrassingly high imo!\n",
      "1516946581030903809 2022-04-20 20:07:03 -0500 <elonmusk> @garyblack00 @MartinViecha $1T valuation with $0 advertising spend\n",
      "1516851177144659970 2022-04-20 13:47:57 -0500 <elonmusk> @BillyM2k @nichegamer @slashdot Does it accurately portray software engineers?\n",
      "1516850420483829764 2022-04-20 13:44:56 -0500 <elonmusk> @SawyerMerritt Yeah\n",
      "1516790570160644096 2022-04-20 09:47:07 -0500 <elonmusk> @squawksquare @Pmgraham86 Yes\n",
      "1516775179493548038 2022-04-20 08:45:57 -0500 <elonmusk> @Teslarati @13ericralph31 Had to been done\n",
      "1516620752040116231 2022-04-19 22:32:19 -0500 <elonmusk> _______ is the Night\n",
      "1516615567758745606 2022-04-19 22:11:43 -0500 <elonmusk> @nichegamer @slashdot Can they please just make sci-fi/fantasy at least *mostly* about sci-fi/fantasy?\n",
      "1516614018089504768 2022-04-19 22:05:33 -0500 <elonmusk> @nichegamer @slashdot True\n",
      "1516610727641063425 2022-04-19 21:52:29 -0500 <elonmusk> @akheriaty I love Pinball Wizard!  https://t.co/h3psi9XFlT\n",
      "1516609514925182980 2022-04-19 21:47:40 -0500 <elonmusk> @PPathole Absolutely\n",
      "1516601612114055170 2022-04-19 21:16:16 -0500 <elonmusk> @PPathole @slashdot Yes\n",
      "1516600269899026432 2022-04-19 21:10:56 -0500 <elonmusk> @slashdot The woke mind virus is making Netflix unwatchable\n",
      "1516483038242385928 2022-04-19 13:25:05 -0500 <elonmusk> A social media platform’s policies are good if the most extreme 10% on left and right are equally unhappy\n",
      "1516470730136952833 2022-04-19 12:36:11 -0500 <elonmusk> @pmarca Extremely concerning. Who is pushing this censorship/deplatforming? Very shadowy.\n",
      "1516168605934698498 2022-04-18 16:35:39 -0500 <elonmusk> @pmarca 🤣\n",
      "1516168344860307464 2022-04-18 16:34:37 -0500 <elonmusk> @Erdayastronaut ♥️🚀✨\n",
      "1516167738909249539 2022-04-18 16:32:12 -0500 <elonmusk> SpaceX Falcon team making great progress! Aiming for 5 day launch cadence with many performance &amp; refurb improvements.\n",
      "1516057871108165637 2022-04-18 09:15:38 -0500 <elonmusk> Why, thank you, sir!   https://t.co/tealJWLSdP\n",
      "1516057553842671618 2022-04-18 09:14:22 -0500 <elonmusk> @greg16676935420 🤣🤣\n",
      "1516056299376623626 2022-04-18 09:09:23 -0500 <elonmusk> @garyblack00 Board salary will be $0 if my bid succeeds, so that’s ~$3M/year saved right there\n",
      "1516055505189457923 2022-04-18 09:06:14 -0500 <elonmusk> @ICannot_Enough @jaylew333 Since he is consistently wrong, it should be possible to do quite well simply by doing the opposite of what he recommends\n",
      "1516017823461613574 2022-04-18 06:36:30 -0500 <elonmusk> @TrungTPhan @TEDchris I feel it’s important that one’s hat also have a hat. Long-standing belief.\n",
      "1515893546657751041 2022-04-17 22:22:40 -0500 <elonmusk> @teslaownersSV @Tesla I used to be such a snappy dresser!\n",
      "1515893304054980610 2022-04-17 22:21:42 -0500 <elonmusk> @Erdayastronaut I think my clothes are too big for me\n",
      "1515892573872832512 2022-04-17 22:18:48 -0500 <elonmusk> @itsALLrisky @gigadgets_ I love it, sign me up\n",
      "1515891581307568131 2022-04-17 22:14:51 -0500 <elonmusk> @itsALLrisky @gigadgets_ 🤣\n",
      "1515888255052533761 2022-04-17 22:01:38 -0500 <elonmusk> @gigadgets_ Sounds high\n",
      "1515860368417034243 2022-04-17 20:10:49 -0500 <elonmusk> @TEDchris I should probably stop cutting my own hair haha\n",
      "1515860217128538116 2022-04-17 20:10:13 -0500 <elonmusk> @TEDchris Good interview\n",
      "1515801552392527872 2022-04-17 16:17:06 -0500 <elonmusk> @pmarca @SallyMayweather 😜\n",
      "1515799688296943636 2022-04-17 16:09:42 -0500 <elonmusk> Happy Easter!  https://t.co/3gBFlrPOQO\n",
      "1515728751912534016 2022-04-17 11:27:49 -0500 <elonmusk> Smooth landing video\n",
      "1515577134437347329 2022-04-17 01:25:21 -0500 <elonmusk> @WholeMarsBlog Based on feedback received, we will drop mobile connector price to $200 &amp; make it easy to order with car.   Note, mobile connector is not needed if you have a Tesla wall connector or to use Superchargers.  Recommend installing Tesla wall connector well before car arrives.\n",
      "1515440119074930694 2022-04-16 16:20:54 -0500 <elonmusk> @WSBChairman In fairness to the Twitter board, this might be more of a concern about other potential bidders vs just me\n",
      "1515439697425805315 2022-04-16 16:19:14 -0500 <elonmusk> @WholeMarsBlog Usage statistics were super low, so seemed wasteful. On the (minor) plus side, we will be including more plug adapters with the mobile connector kit.\n",
      "1515436658317041670 2022-04-16 16:07:09 -0500 <elonmusk> @business 😛\n",
      "1515405264740134918 2022-04-16 14:02:24 -0500 <elonmusk> 🎶 Love Me Tender 🎶\n",
      "1515403974802870279 2022-04-16 13:57:17 -0500 <elonmusk> @ChrisJBakke Wow, with Jack departing, the Twitter board collectively owns almost no shares! Objectively, their economic interests are simply not aligned with shareholders.\n",
      "1515386726818144264 2022-04-16 12:48:44 -0500 <elonmusk> @waitbutwhy Civilization, as defined by the invention of writing, is only ~5500 years old  https://t.co/SMHYvKN2sd\n",
      "1515369292908441604 2022-04-16 11:39:28 -0500 <elonmusk> @MarketRebels 🤣🤣\n",
      "1515368314041774087 2022-04-16 11:35:34 -0500 <elonmusk> @ICannot_Enough !\n",
      "1515367711894917122 2022-04-16 11:33:11 -0500 <elonmusk> @DavidSacks Indeed\n",
      "1515188160371777536 2022-04-15 23:39:42 -0500 <elonmusk> @redletterdave 🙃\n",
      "1515176371269611521 2022-04-15 22:52:52 -0500 <elonmusk> @lrocket @TonyeFreeman Thanks for teaching me so much about rocket engines!\n",
      "1515157069443309570 2022-04-15 21:36:10 -0500 <elonmusk> @lrocket 🤣\n",
      "1515102072676487171 2022-04-15 17:57:38 -0500 <elonmusk> @daelmor @MFrunker @28delayslater @WholeMarsBlog @RenataKonkoly @DimaZeniuk @SirineAti @TroyRubert @Kristennetten @marenkahnert 🤣\n",
      "1515080561643208710 2022-04-15 16:32:09 -0500 <elonmusk> @yishan My most immediate takeaway from this novella of a thread is that Twitter is *way* overdue for long form tweets!\n",
      "1515060055388864522 2022-04-15 15:10:40 -0500 <elonmusk> @ICannot_Enough 🤣\n",
      "1515059837448691715 2022-04-15 15:09:48 -0500 <elonmusk> Thanks for the support!\n",
      "1514726980909948928 2022-04-14 17:07:09 -0500 <elonmusk> 🤔  https://t.co/PfqYpLiuVd\n",
      "1514725812544712708 2022-04-14 17:02:30 -0500 <elonmusk> @BillyM2k @vladtenev Exactly, block size &amp; time should keep pace with the rest of the Internet\n",
      "1514723388396392452 2022-04-14 16:52:52 -0500 <elonmusk> @BillyM2k As I was saying …\n",
      "1514723037060468742 2022-04-14 16:51:28 -0500 <elonmusk> @vladtenev 6 seconds, better said as 6000 milliseconds, which is a long time to computers, is about right\n",
      "1514720245113577473 2022-04-14 16:40:23 -0500 <elonmusk> i♥️u\n",
      "1514718700674306052 2022-04-14 16:34:15 -0500 <elonmusk> @cameron If the current Twitter board takes actions contrary to shareholder interests, they would be breaching their fiduciary duty.   The liability they would thereby assume would be titanic in scale.\n",
      "1514708354429456386 2022-04-14 15:53:08 -0500 <elonmusk> @Cernovich Good question\n",
      "1514702695332036610 2022-04-14 15:30:39 -0500 <elonmusk> @somospostpc @Alwaleed_Talal @Twitter @Kingdom_KHC 🧐\n",
      "1514698036760530945 2022-04-14 15:12:08 -0500 <elonmusk> Taking Twitter private at $54.20 should be up to shareholders, not the board\n",
      "1514686582745284651 2022-04-14 14:26:37 -0500 <elonmusk> @PoliticalShort @Twitter Absolutely. It would be utterly indefensible not to put this offer to a shareholder vote. They own the company, not the board of directors.\n",
      "1514683079968931841 2022-04-14 14:12:42 -0500 <elonmusk> @Alwaleed_Talal @Twitter @Kingdom_KHC Interesting. Just two questions, if I may.   How much of Twitter does the Kingdom own, directly &amp; indirectly?  What are the Kingdom’s views on journalistic freedom of speech?\n",
      "1514681422212128770 2022-04-14 14:06:07 -0500 <elonmusk> Will endeavor to keep as many shareholders in privatized Twitter as allowed by law\n",
      "1514564966564651008 2022-04-14 06:23:21 -0500 <elonmusk> I made an offer   https://t.co/VvreuPMeLu\n",
      "1513288055146225671 2022-04-10 17:49:22 -0500 <elonmusk> @JeffBezos Great idea\n",
      "1513283265318191106 2022-04-10 17:30:20 -0500 <elonmusk> @BLKMDL3 Coming soon\n",
      "1513233496893915138 2022-04-10 14:12:34 -0500 <elonmusk> @tesla_raj Exciting times ahead\n",
      "1513200041518768133 2022-04-10 11:59:38 -0500 <elonmusk> @pmarca Disconnected from what it takes to make stuff\n",
      "1513199588454264832 2022-04-10 11:57:50 -0500 <elonmusk> @teslaownersSV I’m serious about this one btw\n",
      "1512974273606045702 2022-04-09 21:02:31 -0500 <elonmusk> @sweatystartup Exactly\n",
      "1512964005060657156 2022-04-09 20:21:42 -0500 <elonmusk> @PPathole Price should probably be ~$2/month, but paid 12 months up front &amp; account doesn’t get checkmark for 60 days (watch for CC chargebacks) &amp; suspended with no refund if used for scam/spam\n",
      "1512958155508043782 2022-04-09 19:58:28 -0500 <elonmusk> @PPathole It should go away or scammers will game the system by signing up only for a few months\n",
      "1512954808394731521 2022-04-09 19:45:10 -0500 <elonmusk> @GonzaAbalos Maybe even an option to pay in Doge?\n",
      "1512951272437174279 2022-04-09 19:31:07 -0500 <elonmusk> @GonzaAbalos Yes, should be proportionate to affordability &amp; in local currency\n",
      "1512949011510140936 2022-04-09 19:22:08 -0500 <elonmusk> @BLKMDL3 Exactly. It would massively expand the verified pool &amp; make bot armies too expensive to maintain.\n",
      "1512945536969678851 2022-04-09 19:08:19 -0500 <elonmusk> @michaeljburry You will get it back, even though you shorted Tesla, you bastard 🤣\n",
      "1512944276983975936 2022-04-09 19:03:19 -0500 <elonmusk> Weather is fake. I seen Truman Show!\n",
      "1512912532633235456 2022-04-09 16:57:10 -0500 <elonmusk> @teslaownersSV The resemblance is uncanny  https://t.co/egFdUWso7Q\n",
      "1512900245507776515 2022-04-09 16:08:21 -0500 <elonmusk> @LPofMN As the saying goes, when the government first prints money, everyone feels like a winner, but in the end no one does\n",
      "1512895884719267844 2022-04-09 15:51:01 -0500 <elonmusk> @siddarthpaim Fake news purveyors would have hysterics, but a ratings system would improve quality of news greatly\n",
      "1512895152288935946 2022-04-09 15:48:07 -0500 <elonmusk> @universal_sci All of Earth is a tiny dust mote compared to the Sun\n",
      "1512892870272991236 2022-04-09 15:39:03 -0500 <elonmusk> @UKSAguy @RubinReport Yes\n",
      "1512887644128260109 2022-04-09 15:18:17 -0500 <elonmusk> @JohnnaCrider1 .@Beeple is 🔥🔥\n",
      "1512886651940491270 2022-04-09 15:14:20 -0500 <elonmusk> 69.420% of statistics are false\n",
      "1512886157876600833 2022-04-09 15:12:22 -0500 <elonmusk> Truth is the first casualty.  https://t.co/cN9PIfDvjr\n",
      "1512865842194751495 2022-04-09 13:51:39 -0500 <elonmusk> @Jason @justinbieber Yeah\n",
      "1512803599184707588 2022-04-09 09:44:19 -0500 <elonmusk> @WholeMarsBlog @jspeedymorris22 @darrenrovell Absolutely\n",
      "[!] No more data! Scraping will stop now.\n",
      "found 0 deleted tweets in this search.\n"
     ]
    }
   ],
   "source": [
    "import nest_asyncio\n",
    "nest_asyncio.apply()\n",
    "\n",
    "import twint\n",
    "\n",
    "c = twint.Config()\n",
    "c.Username = \"elonmusk\"\n",
    "c.Replies = False\n",
    "\n",
    "twint.run.Search(c)"
   ]
  }
 ],
 "metadata": {
  "interpreter": {
   "hash": "4771c68c01a26e26c9fe4acdb07a7c2494acf4caaf8c8ebd1e57f3f9fd859a44"
  },
  "kernelspec": {
   "display_name": "Python 3.8.9 ('venv': venv)",
   "language": "python",
   "name": "python3"
  },
  "language_info": {
   "codemirror_mode": {
    "name": "ipython",
    "version": 3
   },
   "file_extension": ".py",
   "mimetype": "text/x-python",
   "name": "python",
   "nbconvert_exporter": "python",
   "pygments_lexer": "ipython3",
   "version": "3.8.9"
  },
  "orig_nbformat": 4
 },
 "nbformat": 4,
 "nbformat_minor": 2
}
