{
 "cells": [
  {
   "cell_type": "markdown",
   "metadata": {},
   "source": [
    "# Tweet Scraping"
   ]
  },
  {
   "cell_type": "markdown",
   "metadata": {},
   "source": [
    "### Pre-Processing"
   ]
  },
  {
   "cell_type": "markdown",
   "metadata": {},
   "source": [
    "Imports"
   ]
  },
  {
   "cell_type": "code",
   "execution_count": 177,
   "metadata": {},
   "outputs": [],
   "source": [
    "import pandas as pd\n",
    "import numpy as np\n",
    "from tqdm import tqdm\n",
    "import time"
   ]
  },
  {
   "cell_type": "markdown",
   "metadata": {},
   "source": [
    "Create dataframe of tweets and reply sentiments. Each row contains the parent tweet ID and the sentiment (positive, negative, neutral) for one of the replies."
   ]
  },
  {
   "cell_type": "code",
   "execution_count": 178,
   "metadata": {},
   "outputs": [
    {
     "data": {
      "text/html": [
       "<div>\n",
       "<style scoped>\n",
       "    .dataframe tbody tr th:only-of-type {\n",
       "        vertical-align: middle;\n",
       "    }\n",
       "\n",
       "    .dataframe tbody tr th {\n",
       "        vertical-align: top;\n",
       "    }\n",
       "\n",
       "    .dataframe thead th {\n",
       "        text-align: right;\n",
       "    }\n",
       "</style>\n",
       "<table border=\"1\" class=\"dataframe\">\n",
       "  <thead>\n",
       "    <tr style=\"text-align: right;\">\n",
       "      <th></th>\n",
       "      <th>label</th>\n",
       "      <th>id</th>\n",
       "    </tr>\n",
       "  </thead>\n",
       "  <tbody>\n",
       "    <tr>\n",
       "      <th>0</th>\n",
       "      <td>positive</td>\n",
       "      <td>1223759356631625729</td>\n",
       "    </tr>\n",
       "    <tr>\n",
       "      <th>1</th>\n",
       "      <td>negative</td>\n",
       "      <td>1223752255846912000</td>\n",
       "    </tr>\n",
       "    <tr>\n",
       "      <th>2</th>\n",
       "      <td>neutral</td>\n",
       "      <td>1223752255846912000</td>\n",
       "    </tr>\n",
       "    <tr>\n",
       "      <th>3</th>\n",
       "      <td>negative</td>\n",
       "      <td>1223752255846912000</td>\n",
       "    </tr>\n",
       "    <tr>\n",
       "      <th>4</th>\n",
       "      <td>negative</td>\n",
       "      <td>1223752255846912000</td>\n",
       "    </tr>\n",
       "  </tbody>\n",
       "</table>\n",
       "</div>"
      ],
      "text/plain": [
       "      label                   id\n",
       "0  positive  1223759356631625729\n",
       "1  negative  1223752255846912000\n",
       "2   neutral  1223752255846912000\n",
       "3  negative  1223752255846912000\n",
       "4  negative  1223752255846912000"
      ]
     },
     "execution_count": 178,
     "metadata": {},
     "output_type": "execute_result"
    }
   ],
   "source": [
    "replies = pd.read_csv('../data/replies.csv')\n",
    "replies.head()"
   ]
  },
  {
   "cell_type": "markdown",
   "metadata": {},
   "source": [
    "Get unique tweets"
   ]
  },
  {
   "cell_type": "code",
   "execution_count": 179,
   "metadata": {},
   "outputs": [
    {
     "name": "stdout",
     "output_type": "stream",
     "text": [
      "Total replies: 1519504\n",
      "Total tweets: 34521\n"
     ]
    }
   ],
   "source": [
    "tweet_ids = replies['id'].unique()\n",
    "print(f'Total replies: {len(replies)}\\nTotal tweets: {len(tweet_ids)}')"
   ]
  },
  {
   "cell_type": "markdown",
   "metadata": {},
   "source": [
    "### Fetch Tweets from Twitter API"
   ]
  },
  {
   "cell_type": "markdown",
   "metadata": {},
   "source": [
    "Imports"
   ]
  },
  {
   "cell_type": "code",
   "execution_count": 180,
   "metadata": {},
   "outputs": [],
   "source": [
    "import os\n",
    "import tweepy\n",
    "from dotenv import load_dotenv"
   ]
  },
  {
   "cell_type": "markdown",
   "metadata": {},
   "source": [
    "Authentication"
   ]
  },
  {
   "cell_type": "code",
   "execution_count": 181,
   "metadata": {},
   "outputs": [],
   "source": [
    "load_dotenv()\n",
    "consumer_key = os.getenv(\"CONSUMER_KEY\")\n",
    "consumer_secret = os.getenv(\"CONSUMER_SECRET\")\n",
    "access_token_key = os.getenv(\"ACCESS_TOKEN_KEY\")\n",
    "access_token_secret = os.getenv(\"ACCESS_TOKEN_SECRET\")\n",
    "\n",
    "auth = tweepy.OAuthHandler(consumer_key, consumer_secret)\n",
    "auth.set_access_token(access_token_key, access_token_secret)\n",
    "api = tweepy.API(auth)"
   ]
  },
  {
   "cell_type": "markdown",
   "metadata": {},
   "source": [
    "Fetch all unique tweets"
   ]
  },
  {
   "cell_type": "code",
   "execution_count": 14,
   "metadata": {},
   "outputs": [
    {
     "name": "stderr",
     "output_type": "stream",
     "text": [
      "100%|██████████| 34521/34521 [13:03:29<00:00,  1.36s/it]     \n"
     ]
    }
   ],
   "source": [
    "for i in tqdm(range(len(tweet_ids))):\n",
    "    # Get tweet\n",
    "    tweet_id = tweet_ids[i]\n",
    "    try:\n",
    "        tweet = api.get_status(tweet_id, tweet_mode='extended').full_text.replace('\\n', ' ')\n",
    "    \n",
    "    # Rate limit exceeded\n",
    "    except tweepy.TooManyRequests:\n",
    "        with open('../data/progress.txt', 'a') as f:\n",
    "            f.write(f'Rate Limit Exceeded. Stopped at tweet {i} with ID {tweet_id}.\\n')\n",
    "        time.sleep(15 * 60)\n",
    "        continue\n",
    "\n",
    "    # Other errors\n",
    "    except Exception as e:\n",
    "        with open('../data/progress.txt', 'a') as f:\n",
    "            e = str(e).replace('\\n', ' ')\n",
    "            f.write(f'Error ({e}) at tweet {i} with ID {tweet_id}.\\n')\n",
    "        time.sleep(1)\n",
    "        continue\n",
    "    \n",
    "    # Append to CSV\n",
    "    with open('../data/tweets.csv', 'a') as f:\n",
    "        f.write(f'{tweet_id},{tweet}\\n')\n",
    "\n",
    "    # Comply with Twitter API rate limit\n",
    "    # 1 tweet / second\n",
    "    time.sleep(1)"
   ]
  },
  {
   "cell_type": "markdown",
   "metadata": {},
   "source": [
    "### Append Sentiment Scores"
   ]
  },
  {
   "cell_type": "markdown",
   "metadata": {},
   "source": [
    "Read in tweets CSV"
   ]
  },
  {
   "cell_type": "code",
   "execution_count": 206,
   "metadata": {},
   "outputs": [],
   "source": [
    "# Read CSV and remove duplicate tweets\n",
    "tweets = pd.read_csv('../data/tweets.csv', sep='^([^,]+),', engine='python', usecols=['id', 'tweet'])\n",
    "tweets = tweets.drop_duplicates(subset=['tweet'])\n",
    "tweet_ids = tweets['id'].unique()"
   ]
  },
  {
   "cell_type": "markdown",
   "metadata": {},
   "source": [
    "Compute average reply sentiment score for each tweet"
   ]
  },
  {
   "cell_type": "code",
   "execution_count": 207,
   "metadata": {},
   "outputs": [
    {
     "name": "stderr",
     "output_type": "stream",
     "text": [
      "100%|██████████| 27146/27146 [00:44<00:00, 606.75it/s]\n"
     ]
    }
   ],
   "source": [
    "# Assign sentiment values to labels\n",
    "scores = {'positive': 1.0, 'negative': -1.0, 'neutral': 0.0}\n",
    "tweet_sentiments = {}\n",
    "for tweet_id in tweet_ids:\n",
    "    tweet_sentiments[tweet_id] = 0.0\n",
    "\n",
    "# Iterate over tweets\n",
    "for i in tqdm(range(len(tweet_ids))):\n",
    "    tweet_id = tweet_ids[i]\n",
    "    curr = replies[replies['id'] == tweet_id]\n",
    "\n",
    "    # Compute average sentiment of replies\n",
    "    ct = 0\n",
    "    for index, row in curr.iterrows():\n",
    "        sentiment = row['label']\n",
    "        tweet_sentiments[tweet_id] += scores[sentiment]\n",
    "        ct += 1\n",
    "    tweet_sentiments[tweet_id] /= ct"
   ]
  },
  {
   "cell_type": "markdown",
   "metadata": {},
   "source": [
    "Append scores to tweets CSV"
   ]
  },
  {
   "cell_type": "code",
   "execution_count": 208,
   "metadata": {},
   "outputs": [
    {
     "name": "stderr",
     "output_type": "stream",
     "text": [
      "100%|██████████| 27146/27146 [00:00<00:00, 31030.95it/s]\n"
     ]
    },
    {
     "data": {
      "text/html": [
       "<div>\n",
       "<style scoped>\n",
       "    .dataframe tbody tr th:only-of-type {\n",
       "        vertical-align: middle;\n",
       "    }\n",
       "\n",
       "    .dataframe tbody tr th {\n",
       "        vertical-align: top;\n",
       "    }\n",
       "\n",
       "    .dataframe thead th {\n",
       "        text-align: right;\n",
       "    }\n",
       "</style>\n",
       "<table border=\"1\" class=\"dataframe\">\n",
       "  <thead>\n",
       "    <tr style=\"text-align: right;\">\n",
       "      <th></th>\n",
       "      <th>id</th>\n",
       "      <th>tweet</th>\n",
       "      <th>sentiment</th>\n",
       "    </tr>\n",
       "  </thead>\n",
       "  <tbody>\n",
       "    <tr>\n",
       "      <th>0</th>\n",
       "      <td>1223752255846912000</td>\n",
       "      <td>The Fox Corporation (The owners of Fox News) a...</td>\n",
       "      <td>-0.520000</td>\n",
       "    </tr>\n",
       "    <tr>\n",
       "      <th>1</th>\n",
       "      <td>1223738389003952128</td>\n",
       "      <td>Folks, you hear about this cornovirus deal in ...</td>\n",
       "      <td>-0.200000</td>\n",
       "    </tr>\n",
       "    <tr>\n",
       "      <th>2</th>\n",
       "      <td>1223748267609030659</td>\n",
       "      <td>The news is finally out !!!! I will be on @lov...</td>\n",
       "      <td>0.500000</td>\n",
       "    </tr>\n",
       "    <tr>\n",
       "      <th>3</th>\n",
       "      <td>1223739174160928773</td>\n",
       "      <td>Good news! The person under investigation for ...</td>\n",
       "      <td>-0.250000</td>\n",
       "    </tr>\n",
       "    <tr>\n",
       "      <th>4</th>\n",
       "      <td>1223737953291128837</td>\n",
       "      <td>Two avid golfers promised that, whoever died f...</td>\n",
       "      <td>0.166667</td>\n",
       "    </tr>\n",
       "  </tbody>\n",
       "</table>\n",
       "</div>"
      ],
      "text/plain": [
       "                    id                                              tweet  \\\n",
       "0  1223752255846912000  The Fox Corporation (The owners of Fox News) a...   \n",
       "1  1223738389003952128  Folks, you hear about this cornovirus deal in ...   \n",
       "2  1223748267609030659  The news is finally out !!!! I will be on @lov...   \n",
       "3  1223739174160928773  Good news! The person under investigation for ...   \n",
       "4  1223737953291128837  Two avid golfers promised that, whoever died f...   \n",
       "\n",
       "   sentiment  \n",
       "0  -0.520000  \n",
       "1  -0.200000  \n",
       "2   0.500000  \n",
       "3  -0.250000  \n",
       "4   0.166667  "
      ]
     },
     "execution_count": 208,
     "metadata": {},
     "output_type": "execute_result"
    }
   ],
   "source": [
    "# Append scores\n",
    "tweet_ids = tweets['id']\n",
    "sentiments = []\n",
    "for i in tqdm(range(len(tweet_ids))):\n",
    "    tweet_id = tweets.iloc[i]['id']\n",
    "    sentiments.append(tweet_sentiments[tweet_id])\n",
    "tweets['sentiment'] = sentiments\n",
    "tweets.to_csv('../data/labeled_tweets.csv', index=False)\n",
    "tweets.head()"
   ]
  },
  {
   "cell_type": "markdown",
   "metadata": {},
   "source": [
    "Append number of replies to CSV"
   ]
  },
  {
   "cell_type": "code",
   "execution_count": 210,
   "metadata": {},
   "outputs": [
    {
     "name": "stderr",
     "output_type": "stream",
     "text": [
      "100%|██████████| 27146/27146 [00:27<00:00, 989.25it/s] \n"
     ]
    },
    {
     "data": {
      "text/html": [
       "<div>\n",
       "<style scoped>\n",
       "    .dataframe tbody tr th:only-of-type {\n",
       "        vertical-align: middle;\n",
       "    }\n",
       "\n",
       "    .dataframe tbody tr th {\n",
       "        vertical-align: top;\n",
       "    }\n",
       "\n",
       "    .dataframe thead th {\n",
       "        text-align: right;\n",
       "    }\n",
       "</style>\n",
       "<table border=\"1\" class=\"dataframe\">\n",
       "  <thead>\n",
       "    <tr style=\"text-align: right;\">\n",
       "      <th></th>\n",
       "      <th>id</th>\n",
       "      <th>tweet</th>\n",
       "      <th>sentiment</th>\n",
       "      <th>reply_count</th>\n",
       "    </tr>\n",
       "  </thead>\n",
       "  <tbody>\n",
       "    <tr>\n",
       "      <th>0</th>\n",
       "      <td>1223752255846912000</td>\n",
       "      <td>The Fox Corporation (The owners of Fox News) a...</td>\n",
       "      <td>-0.520000</td>\n",
       "      <td>150</td>\n",
       "    </tr>\n",
       "    <tr>\n",
       "      <th>1</th>\n",
       "      <td>1223738389003952128</td>\n",
       "      <td>Folks, you hear about this cornovirus deal in ...</td>\n",
       "      <td>-0.200000</td>\n",
       "      <td>45</td>\n",
       "    </tr>\n",
       "    <tr>\n",
       "      <th>2</th>\n",
       "      <td>1223748267609030659</td>\n",
       "      <td>The news is finally out !!!! I will be on @lov...</td>\n",
       "      <td>0.500000</td>\n",
       "      <td>6</td>\n",
       "    </tr>\n",
       "    <tr>\n",
       "      <th>3</th>\n",
       "      <td>1223739174160928773</td>\n",
       "      <td>Good news! The person under investigation for ...</td>\n",
       "      <td>-0.250000</td>\n",
       "      <td>12</td>\n",
       "    </tr>\n",
       "    <tr>\n",
       "      <th>4</th>\n",
       "      <td>1223737953291128837</td>\n",
       "      <td>Two avid golfers promised that, whoever died f...</td>\n",
       "      <td>0.166667</td>\n",
       "      <td>36</td>\n",
       "    </tr>\n",
       "  </tbody>\n",
       "</table>\n",
       "</div>"
      ],
      "text/plain": [
       "                    id                                              tweet  \\\n",
       "0  1223752255846912000  The Fox Corporation (The owners of Fox News) a...   \n",
       "1  1223738389003952128  Folks, you hear about this cornovirus deal in ...   \n",
       "2  1223748267609030659  The news is finally out !!!! I will be on @lov...   \n",
       "3  1223739174160928773  Good news! The person under investigation for ...   \n",
       "4  1223737953291128837  Two avid golfers promised that, whoever died f...   \n",
       "\n",
       "   sentiment  reply_count  \n",
       "0  -0.520000          150  \n",
       "1  -0.200000           45  \n",
       "2   0.500000            6  \n",
       "3  -0.250000           12  \n",
       "4   0.166667           36  "
      ]
     },
     "execution_count": 210,
     "metadata": {},
     "output_type": "execute_result"
    }
   ],
   "source": [
    "tweet_ids = tweets['id'].unique()\n",
    "reply_counts = []\n",
    "for i in tqdm(range(len(tweet_ids))):\n",
    "    tweet_id = tweet_ids[i]\n",
    "    curr = replies[replies['id'] == tweet_id]\n",
    "    reply_counts.append(len(curr))\n",
    "tweets['reply_count'] = reply_counts\n",
    "tweets.to_csv('../data/labeled_tweets.csv', index=False)\n",
    "tweets.head()"
   ]
  }
 ],
 "metadata": {
  "interpreter": {
   "hash": "4771c68c01a26e26c9fe4acdb07a7c2494acf4caaf8c8ebd1e57f3f9fd859a44"
  },
  "kernelspec": {
   "display_name": "Python 3.8.9 ('venv': venv)",
   "language": "python",
   "name": "python3"
  },
  "language_info": {
   "codemirror_mode": {
    "name": "ipython",
    "version": 3
   },
   "file_extension": ".py",
   "mimetype": "text/x-python",
   "name": "python",
   "nbconvert_exporter": "python",
   "pygments_lexer": "ipython3",
   "version": "3.8.9"
  },
  "orig_nbformat": 4
 },
 "nbformat": 4,
 "nbformat_minor": 2
}
